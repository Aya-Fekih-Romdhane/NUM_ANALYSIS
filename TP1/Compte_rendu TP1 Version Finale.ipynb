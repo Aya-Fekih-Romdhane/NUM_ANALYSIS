{
 "cells": [
  {
   "cell_type": "markdown",
   "metadata": {},
   "source": [
    "#### <a style=\"color:#611842\" >FEKIH ROMDHANE Aya   <br>    classe : 2 DNI Groupe 2  $$2020-2021$$ </a>"
   ]
  },
  {
   "cell_type": "markdown",
   "metadata": {},
   "source": [
    "# <center style=\"color:#6C0277\" > Compte Rendu TP1 Analyse Numérique </center>"
   ]
  },
  {
   "cell_type": "markdown",
   "metadata": {},
   "source": [
    "## Introduction :"
   ]
  },
  {
   "cell_type": "markdown",
   "metadata": {},
   "source": [
    "\n"
   ]
  },
  {
   "cell_type": "markdown",
   "metadata": {},
   "source": [
    "Soient a et b deux r´eels tels que a < b. Etant donn´ee une fonction f : [a,b] → R continue. On va approximer (s’ils existent) des z´eros (ou des racines) de f, c’est  à dire, les solutions de l’´equation f(x) = 0\n",
    "f(α)=0, α est un zéro de f\n",
    "Le calcul de telle α n'est pas facile en générale analytiqument.C'est pourquoiqs, on a recours à des méthodes iteratives Pour approcher telle α.\n",
    "Notons qu’il est diﬃcile dans beaucoup de cas de donner la valuer exacte de telle racine α. C’est pourquoi on a besoin de m´ethodes itératives pour donner une valeur approch´ee (ou approximative) de α. L’id´ee g´en´erale est de contruire une suite (xn) qui converge vers "
   ]
  },
  {
   "cell_type": "markdown",
   "metadata": {},
   "source": [
    "## <p style=\"color:#FD3F92\" > Question : Comment construire la suite (xn)? </p>\n",
    "##  <p style=\"color:#FD3F92\" > Idée : On se dispose de 3 m´ethodes pour contruire telle (xn), qui sont comme suit :  </p>I\n",
    "* (i) la méthode de la dichotomie (ou bissection); \n",
    "* (ii) la méthode de point ﬁxe; \n",
    "* (iii) la méthode de Newton."
   ]
  },
  {
   "cell_type": "markdown",
   "metadata": {},
   "source": [
    "## Partie Théorique "
   ]
  },
  {
   "cell_type": "markdown",
   "metadata": {},
   "source": [
    " ####  <p style=\"color:#FD3F92\" > (i) Principe de la méthode de dichotomie ( ou bisection ) : </p>\n",
    "Considérons une fonction f continue sur un intervalle [a,b]. On suppose que f admet\n",
    "une et une seule racine α dans ]a, b[ et que $f(a)*f(b) < 0$. On note\n",
    "$c=\\frac{a+b}{2}$\n",
    "le milieu de l’intervalle.\n",
    "- (1) Si $f(c) = 0$, c’est la racine de f et le problème est résolu.\n",
    "- (2) Si $f(c) \\neq 0$, nous regardons le signe de $f(a)* f(c)$.\n",
    "\n",
    " $$ \\circ \\hspace{0.5cm} Si \\hspace{0.5cm} f(a)*f(c) < 0 \\Longrightarrow\tα\\in ]a, c[$$\n",
    " $$ \\circ \\hspace{0.5cm} Si \\hspace{0.5cm} f(c)* f(b) < 0 \\Longrightarrow\tα\\in]c, b[$$\n",
    "\n",
    "On recommence le processus en prenant l’intervalle [a, c] au lieu de [a, b] dans le premier cas, et\n",
    "l’intervalle [c, b] au lieu de [a, b] dans le second cas. De cette manière, on construit par récurrence\n",
    "sur n trois suites $(a_n)$, $(b_n)$ et $(c_n)$ telles que $a_0 = a$, $b_0 = b$ et telles que pour tout n ≥ 0,\n",
    "$$(1)\\hspace{0.5cm} c_n=\\frac{a_n+b_n}{2}$$\n",
    "\n",
    "$$(2) \\hspace{0.5cm} Si \\hspace{0.5cm} f(c_n)* f(b_n) < 0 \\Longrightarrow a_{n+1} = c_n \\hspace{0.3cm}et \\hspace{0.3cm} b_{n+1} = b_n.$$\n",
    "$$(3) \\hspace{0.5cm} Si \\hspace{0.5cm} f(c_n). f(a_n) < 0 \\Longrightarrow a_{n+1} = a_n \\hspace{0.3cm}et \\hspace{0.3cm} b_{n+1} = c_n.$$\n",
    "\n",
    "On a toujours une solution à l'équation $f(x)=0$ dans l'intervalle $[a_n,b_n]$, qui est de longueur $\\frac{b_n+a_n}{2^n}$"
   ]
  },
  {
   "cell_type": "markdown",
   "metadata": {},
   "source": [
    " #### <p style=\"color:#FD3F92\" > (ii) Principe de la méthode de point fixe : </p>\n",
    "Le principe de cette méthode consiste à transformer l’équation $f(x) = 0$ en une équation équivalente $g(x) = x$ . Le point α est alors un point fixe de g. Approcher les zéros de f revient à approcher les points fixes de g. \n",
    "Le choix de la fonction g est motivé par les exigences du théorème de point fixe. En effet, elle doit être contractante dans un voisinage I de α, ce qui revient à vérifier que :\n",
    "$|g_0(x)| < 1$ sur ce voisinage. Dans ce cas, on construit une suite $(x_n)$ $n \\in \\mathbb{N}$ définie par :\n",
    "\n",
    "   $$\\left \\{\n",
    "   \\begin{array}{r c l}\n",
    "      x_0 \\hspace{0.2cm}dans\\hspace{0.2cm} un\\hspace{0.2cm} voisinage \\hspace{0.2cm}I\\hspace{0.2cm}de\\hspace{0.2cm}α \\\\\n",
    "      ∀ n ≥ 0,\\hspace{0.3cm} x_{n+1} = g(x_n) \n",
    "   \\end{array}\n",
    "   \\right. $$"
   ]
  },
  {
   "cell_type": "markdown",
   "metadata": {},
   "source": [
    "#### <p style=\"color:##FD3F92\" > (iii) Principe de la méthode de Newton : </p>\n",
    "L'idée est de remplacer la courbe représentative de la fonction par sa tangente.\n",
    "\n",
    "On part d'un point $x_0$ de l'intervalle de définition de f, et on considère la tangente à la courbe représentative de f en $(x_0,f(x_0))$. Soit $x_1$ l'abscisse de l'intersection de la tangente avec l'axe des abscisses. Puisque la tangente est proche de la courbe, on peut espérer que $x_1$ donne une meilleure estimation d'une solution de l'équation f(x)=0 que $x_0$. On recommence alors le procédé à partir de $x_1$, et on construit par récurrence une suite $(x_n)$ définie par :\n",
    "$$x_{n+1}=x_n-(f(x_n)/f'(x_n))$$\n",
    "Soit $g(x)=x-(\\frac{f(x)}{f'(x)}) \\Longrightarrow x_{n+1}= g(x_n)$"
   ]
  },
  {
   "cell_type": "markdown",
   "metadata": {},
   "source": [
    "La méthode de Newton est basée sur la construction d’une suite (xn) qui converge vers un zéro α d’une fonction continue \n",
    "f :[a,b]→R."
   ]
  },
  {
   "cell_type": "markdown",
   "metadata": {},
   "source": [
    "## Partie Pratique "
   ]
  },
  {
   "cell_type": "markdown",
   "metadata": {},
   "source": [
    "## Exercice 1:<h2>\n",
    ">On considère le polynôme $p(x) = (x - 1)^6$. \n",
    ">\n",
    ">En développant on\n",
    ">peut écrire ce même polynôme sous la forme\n",
    ">$f(x) = x^6 - 6x^5 + 15x^4 - 20x^3 + 15x^2 - 6x + 1.$\n",
    ">\n",
    ">1) Avec Matlab évaluer $p(x)$ et $f(x)$ pour $x$ allant de $.998$ à\n",
    ">$1.002$ en choisissant des pas de $.0001$.\n",
    ">\n",
    ">2) Faire un graphique de $f(x)$ et $p(x)$. Commenter."
   ]
  },
  {
   "cell_type": "markdown",
   "metadata": {},
   "source": [
    "## <p style=\"color:#6C0277 ;text-decoration: underline;\">Correction :</p>"
   ]
  },
  {
   "cell_type": "code",
   "execution_count": 1,
   "metadata": {},
   "outputs": [],
   "source": [
    "def p(x):\n",
    "    return (x-1)**6 \n",
    "def f(x):\n",
    "    return x**6 - 6*x**5 + 15*x**4 - 20*x**3 + 15*x**2 - 6*x + 1"
   ]
  },
  {
   "cell_type": "code",
   "execution_count": 2,
   "metadata": {},
   "outputs": [
    {
     "name": "stdout",
     "output_type": "stream",
     "text": [
      "Exemple avec 1\n",
      "\n",
      "p(1)=0 \n",
      "f(1)=0 \n"
     ]
    }
   ],
   "source": [
    "print('Exemple avec 1')\n",
    "print('')\n",
    "print('p({})={} '.format(1,p(1)))\n",
    "print('f({})={} '.format(1,f(1)))"
   ]
  },
  {
   "cell_type": "code",
   "execution_count": 3,
   "metadata": {},
   "outputs": [
    {
     "name": "stdout",
     "output_type": "stream",
     "text": [
      "Exemple avec la valeur 0.998\n",
      "\n",
      "p(0.998)=6.400000000000034e-17 \n",
      "f(0.998)=1.7763568394002505e-15 \n"
     ]
    }
   ],
   "source": [
    "print('Exemple avec la valeur 0.998')\n",
    "print('')\n",
    "print('p({})={} '.format(0.998,p(0.998)))\n",
    "print('f({})={} '.format(0.998,f(0.998)))"
   ]
  },
  {
   "cell_type": "markdown",
   "metadata": {},
   "source": [
    "<strong> a/ Evaluation de  𝑝(𝑥)  et  𝑓(𝑥)  pour  𝑥  allant de  0 à  10  en choisissant des pas de  1</strong>"
   ]
  },
  {
   "cell_type": "code",
   "execution_count": 4,
   "metadata": {},
   "outputs": [
    {
     "name": "stdout",
     "output_type": "stream",
     "text": [
      "Expression réduite\n",
      "            \n",
      "p(i)=  1\n",
      "p(i)=  0\n",
      "p(i)=  1\n",
      "p(i)=  64\n",
      "p(i)=  729\n",
      "p(i)=  4096\n",
      "p(i)=  15625\n",
      "p(i)=  46656\n",
      "p(i)=  117649\n",
      "p(i)=  262144\n",
      "            \n",
      "-------------------------------------\n",
      "            \n",
      "Expression developpée\n",
      "            \n",
      "f(i)=  1\n",
      "f(i)=  0\n",
      "f(i)=  1\n",
      "f(i)=  64\n",
      "f(i)=  729\n",
      "f(i)=  4096\n",
      "f(i)=  15625\n",
      "f(i)=  46656\n",
      "f(i)=  117649\n",
      "f(i)=  262144\n"
     ]
    }
   ],
   "source": [
    "import numpy\n",
    "print('Expression réduite')\n",
    "print('            ')\n",
    "for i in numpy.arange(0, 10, 1):\n",
    "    print('p(i)= ' , p(i))\n",
    "print('            ')\n",
    "print('-------------------------------------')\n",
    "print('            ')\n",
    "print('Expression developpée')\n",
    "print('            ')\n",
    "for i in numpy.arange(0, 10, 1):\n",
    "    print('f(i)= ' , f(i))"
   ]
  },
  {
   "cell_type": "markdown",
   "metadata": {},
   "source": [
    " ####  <p style=\"color:RED\" > Remarque 1 : Les valeurs sont égaux ( ou bisection )  </p>"
   ]
  },
  {
   "cell_type": "markdown",
   "metadata": {},
   "source": [
    "<strong>  Evaluation de  𝑝(𝑥)  et  𝑓(𝑥)  pour  𝑥  allant de  .998  à  1.002  en choisissant des pas de  .0001</strong>"
   ]
  },
  {
   "cell_type": "code",
   "execution_count": 5,
   "metadata": {},
   "outputs": [
    {
     "name": "stdout",
     "output_type": "stream",
     "text": [
      "Expression réduite\n",
      "            \n",
      "p(i)=  6.400000000000034e-17\n",
      "p(i)=  1.0000000000000053e-18\n",
      "p(i)=  0.0\n",
      "p(i)=  9.999999999993393e-19\n",
      "p(i)=  6.400000000000034e-17\n",
      "            \n",
      "-------------------------------------\n",
      "            \n",
      "Expression developpée\n",
      "            \n",
      "f(i)=  1.7763568394002505e-15\n",
      "f(i)=  0.0\n",
      "f(i)=  0.0\n",
      "f(i)=  -2.6645352591003757e-15\n",
      "f(i)=  1.7763568394002505e-15\n"
     ]
    }
   ],
   "source": [
    "import numpy\n",
    "print('Expression réduite')\n",
    "print('            ')\n",
    "for i in numpy.arange(0.998, 1.002, 0.001):\n",
    "    print('p(i)= ' , p(i))\n",
    "print('            ')\n",
    "print('-------------------------------------')\n",
    "print('            ')\n",
    "print('Expression developpée')\n",
    "print('            ')\n",
    "for i in numpy.arange(0.998, 1.002, 0.001):\n",
    "    print('f(i)= ' , f(i))\n",
    "    "
   ]
  },
  {
   "cell_type": "markdown",
   "metadata": {},
   "source": [
    "<strong style=\"color:red\"> Remarque 2 :  Les valeurs ne sont pas égaux </strong>"
   ]
  },
  {
   "cell_type": "markdown",
   "metadata": {},
   "source": [
    "<em><strong style=\"color:#13F0A0\">Commentaires :</strong><em>"
   ]
  },
  {
   "cell_type": "markdown",
   "metadata": {},
   "source": [
    "- l'utilisation des entiers nous donne les memes resultats par contre l'utilisation des valeurs réelles donnent des resultats différents ce qui est expliqué  par l'existance d'un taux d'erreur ce dernier est expliqué par le phénomène <strong>\"erreur d'arrondi\"</strong>  \n",
    "- <strong>Une erreur d'arrondi</strong> est la différence entre la valeur approchée calculée d'un nombre et sa valeur mathématique exacte. Des erreurs d'arrondi naissent généralement lorsque des nombres exacts sont représentés dans un système incapable de les exprimer exactement. Les erreurs d'arrondi se propagent au cours des calculs avec des valeurs approchées ce qui peut augmenter l'erreur du résultat final. Dans le système décimal des erreurs d'arrondi sont engendrées, lorsqu'avec une troncature, un grand nombre (peut-être une infinité) de décimales ne sont pas prises en considération. Ce processus d'arrondi apporte des gains de temps de calcul au mépris de la précision.\n",
    "- L'analyse numérique essaie spécifiquement d'évaluer l'erreur lorsque sont utilisés des approximations de solutions d'équations ou des algorithmes numériques, plus particulièrement quand un nombre fini de chiffres est utilisé pour la représentation des nombres réels."
   ]
  },
  {
   "cell_type": "markdown",
   "metadata": {},
   "source": [
    "### <em>Version PYTHON</em>"
   ]
  },
  {
   "cell_type": "code",
   "execution_count": 6,
   "metadata": {},
   "outputs": [
    {
     "data": {
      "image/png": "[encoded data removed]",
      "text/plain": [
       "<Figure size 648x504 with 1 Axes>"
      ]
     },
     "metadata": {
      "needs_background": "light"
     },
     "output_type": "display_data"
    }
   ],
   "source": [
    "import matplotlib.pyplot as plt\n",
    "import numpy as np\n",
    "\n",
    "'x=np.linspace(0.998, 1.002,100)'\n",
    "x = np.arange(0.998, 1.002, 0.0001) \n",
    "p = lambda x:(x-1)**6 \n",
    "fig = plt.figure(1, figsize=(9, 7))\n",
    "plt.plot(x,p(x))\n",
    "\n",
    "f = lambda x: x**6 - 6*x**5 + 15*x**4 - 20*x**3 + 15*x**2 - 6*x + 1\n",
    "plt.plot(x,f(x))\n",
    "plt.xlabel('x')\n",
    "plt.ylabel('f(x)')\n",
    "plt.title('Solution dans [0.998:0.0001:1.002] ')\n",
    "plt.grid(True)   \n",
    "plt.show()\n"
   ]
  },
  {
   "cell_type": "markdown",
   "metadata": {},
   "source": [
    "# EXERCICE 2:\n",
    "\n",
    ">On considère l'équation : $$ f(x)=x^3+x^2-3x-3=0$$\n",
    ">1) Dessiner la courbe de $f$ dans l'intervalle $[-2;2]$, puis trouver des intervalles convenables pour appliquer la méthode de >bisection.\n",
    ">\n",
    ">2) Utiliser un programme `dicho.m` qui permettra de trouver les solutions de l'équation $f(x)=0$ avec $eps=0.001$.\n",
    ">\n",
    ">3) Modifier le programme `dicho.m` pour qu'il donne le nombre d'itération nécessaire pour avoir la solution à $eps$ près."
   ]
  },
  {
   "cell_type": "markdown",
   "metadata": {},
   "source": [
    "## <p style=\"color:#53C015;text-decoration: underline;\">Correction :</p>"
   ]
  },
  {
   "cell_type": "markdown",
   "metadata": {},
   "source": [
    ">#### 1)\n",
    ">On considère la fonction $f$ définie par  $$f: x\\to x^3 + x^2 - 3x -3 $$"
   ]
  },
  {
   "cell_type": "markdown",
   "metadata": {},
   "source": [
    "## Version Python"
   ]
  },
  {
   "cell_type": "code",
   "execution_count": 7,
   "metadata": {},
   "outputs": [
    {
     "data": {
      "text/plain": [
       "[<matplotlib.lines.Line2D at 0x225d21c1490>]"
      ]
     },
     "execution_count": 7,
     "metadata": {},
     "output_type": "execute_result"
    },
    {
     "data": {
      "image/png": "[encoded data removed]",
      "text/plain": [
       "<Figure size 648x504 with 1 Axes>"
      ]
     },
     "metadata": {
      "needs_background": "light"
     },
     "output_type": "display_data"
    }
   ],
   "source": [
    "import matplotlib.pyplot as plt\n",
    "from numpy import linspace\n",
    "f=lambda x: x**3+x**2-3*x-3\n",
    "T=linspace(-2,2,100)\n",
    "fig = plt.figure(1, figsize=(9, 7))\n",
    "plt.title(\"solution dans [-2:2] \");\n",
    "plt.xlabel(\"x\")\n",
    "plt.ylabel (\"f(x)\")\n",
    "plt.grid(True)\n",
    "plt.plot(T,f(T))\n"
   ]
  },
  {
   "cell_type": "markdown",
   "metadata": {},
   "source": [
    "<em><strong style=\"color:#13F0A0\">Commentaires :</strong><em>"
   ]
  },
  {
   "cell_type": "markdown",
   "metadata": {},
   "source": [
    "# Daprés le graph de $f$ il existe 3 solutions :\n",
    "- $\\alpha_1 \\in ]-2;-1.5[$ \n",
    "- $\\alpha_2 \\in ]-1.5;-0.5[$ \n",
    "- $\\alpha_3 \\in ]1.5;2[$ "
   ]
  },
  {
   "cell_type": "markdown",
   "metadata": {},
   "source": [
    "2)\n",
    "\n",
    "<p> La méthode de la dichotomie (ou bissection) est une méthode pour trouver une solution approchée à une équation f(x)=0. <br/>\n",
    "Précisément, supposons que la fonction f est continue sur l'intervalle I=[a,b] et il exite $\\alpha_ \\in I tq $f($\\alpha_ )=0$ <br/>\n",
    "La méthode consiste à diviser l'intervalle en deux en calculant m=(a+b)/2. <br/>\n",
    "Ilya deux possiblites: f(a)*f(m) sont de signes contraires ou bien f(b)*f(m).<br/>\n",
    "=> L'algorithme s'applique au sous-intervalle dans lequel le changement de signe se produit.<br/>\n",
    "=> L'algorithme est recursif.(Le processus se repete ) </p>\n",
    "Le programme `dicho.m` permette de trouver les solutions de l'équation $f(x)=0$ avec $eps=0.001$."
   ]
  },
  {
   "cell_type": "markdown",
   "metadata": {},
   "source": [
    "### <em>Version PYTHON</em>"
   ]
  },
  {
   "cell_type": "markdown",
   "metadata": {},
   "source": [
    "Le code est le suivant :"
   ]
  },
  {
   "cell_type": "code",
   "execution_count": 8,
   "metadata": {},
   "outputs": [],
   "source": [
    "def dicho(a,b,f,eps):\n",
    "    '''version tant que '''\n",
    "    \n",
    "    while (b-a)>eps:\n",
    "        m=(a+b)/2\n",
    "        if f(m)==0:\n",
    "            return m\n",
    "        if f(a)*f(m)<0 :\n",
    "            b=m\n",
    "        else :\n",
    "            a=m\n",
    "    return m"
   ]
  },
  {
   "cell_type": "code",
   "execution_count": 9,
   "metadata": {},
   "outputs": [
    {
     "data": {
      "text/plain": [
       "-1.7314453125"
      ]
     },
     "execution_count": 9,
     "metadata": {},
     "output_type": "execute_result"
    }
   ],
   "source": [
    "f=lambda x: x**3+x**2-3*x-3\n",
    "dicho(-2,-1.5,f,0.001)"
   ]
  },
  {
   "cell_type": "markdown",
   "metadata": {},
   "source": [
    ">#### 3)\n",
    ">\n",
    ">Le code est le suivant : "
   ]
  },
  {
   "cell_type": "markdown",
   "metadata": {},
   "source": [
    "### <em>Version PYTHON</em>"
   ]
  },
  {
   "cell_type": "code",
   "execution_count": 10,
   "metadata": {},
   "outputs": [],
   "source": [
    "def dichow(a,b,f,eps):\n",
    "    '''version tant que '''\n",
    "    cp=0\n",
    "    while (b-a)>eps:\n",
    "        m=(a+b)/2\n",
    "        if f(m)==0:\n",
    "            return m\n",
    "        if f(a)*f(m)<0 :\n",
    "            b=m\n",
    "        else :\n",
    "            a=m\n",
    "        cp+=1\n",
    "    return m,cp"
   ]
  },
  {
   "cell_type": "code",
   "execution_count": 11,
   "metadata": {},
   "outputs": [
    {
     "data": {
      "text/plain": [
       "(-1.7314453125, 9)"
      ]
     },
     "execution_count": 11,
     "metadata": {},
     "output_type": "execute_result"
    }
   ],
   "source": [
    "f=lambda x: x**3+x**2-3*x-3\n",
    "dichow(-2,-1.5,f,0.001)"
   ]
  },
  {
   "cell_type": "markdown",
   "metadata": {},
   "source": [
    "Le nombre d'itération N nécéssaire à la méthode de la dichotomie pour trouver $\\alpha$ à $10^{-p}$ prés \n",
    "\n",
    "$$N \\geq E\\left(\\dfrac{\\ln(b-a)+p\\ln(10)}{\\ln(2)}\\right)+1$$"
   ]
  },
  {
   "cell_type": "markdown",
   "metadata": {},
   "source": [
    "Pour afficher le nombre d’itérations effectuées, on utilise un compteur, incrémenté à chaque passage dans la boucle :\n"
   ]
  },
  {
   "cell_type": "code",
   "execution_count": 12,
   "metadata": {},
   "outputs": [
    {
     "name": "stdout",
     "output_type": "stream",
     "text": [
      "(-1.7320480346679688, 16)\n",
      "-1.0\n",
      "(1.7320480346679688, 16)\n"
     ]
    }
   ],
   "source": [
    "interval=[[-2,-1.5],[-1.5,-0.5],[1.5,2]]\n",
    "for u in interval:\n",
    "    print(dichow(u[0],u[1],f,10**(-5)))"
   ]
  },
  {
   "cell_type": "markdown",
   "metadata": {},
   "source": [
    "## Méthode graphique pour la recherche de la solution"
   ]
  },
  {
   "cell_type": "code",
   "execution_count": 13,
   "metadata": {},
   "outputs": [
    {
     "data": {
      "image/png": "[encoded data removed]",
      "text/plain": [
       "<Figure size 432x288 with 1 Axes>"
      ]
     },
     "metadata": {
      "needs_background": "light"
     },
     "output_type": "display_data"
    }
   ],
   "source": [
    "#alpha 1\n",
    "x = linspace ( -1.7326,-1.732)\n",
    "y = f ( x )\n",
    "plt.plot (x , y,'r' )\n",
    "plt.axhline ()\n",
    "plt.show ()"
   ]
  },
  {
   "cell_type": "code",
   "execution_count": 14,
   "metadata": {},
   "outputs": [
    {
     "data": {
      "image/png": "[encoded data removed]",
      "text/plain": [
       "<Figure size 432x288 with 1 Axes>"
      ]
     },
     "metadata": {
      "needs_background": "light"
     },
     "output_type": "display_data"
    }
   ],
   "source": [
    "#alpha 2\n",
    "x = linspace (-1.02,-0.96)\n",
    "y = f ( x )\n",
    "plt.plot (x , y,'r' )\n",
    "plt.axhline ()\n",
    "plt.show ()"
   ]
  },
  {
   "cell_type": "code",
   "execution_count": 15,
   "metadata": {},
   "outputs": [
    {
     "data": {
      "image/png": "[encoded data removed]",
      "text/plain": [
       "<Figure size 432x288 with 1 Axes>"
      ]
     },
     "metadata": {
      "needs_background": "light"
     },
     "output_type": "display_data"
    }
   ],
   "source": [
    "#alpha 3\n",
    "x = linspace ( 1.732,1.7323)\n",
    "y = f ( x )\n",
    "plt.plot (x , y,'r' )\n",
    "plt.axhline ()\n",
    "plt.show ()"
   ]
  },
  {
   "cell_type": "markdown",
   "metadata": {},
   "source": [
    "<em><strong style=\"color:#13F0A0\">Commentaires :</strong><em>"
   ]
  },
  {
   "cell_type": "markdown",
   "metadata": {},
   "source": [
    "<strong>Avantages de la méthode de la dichotomie :</strong>\n",
    "- algorithme simple\n",
    "- convergence de façon sure \n",
    "- vitesse de convergence constante \n",
    "- On peut calculer nombre d'itérations facilement si on connait epsilon\n",
    "-  on a un encadrement de la solution\n",
    "- un seul calcul de fonction à chaque itération.\n",
    "\n",
    "<strong>Inconvénients de la méthode de la dichotomie :</strong>\n",
    "- nécessite f (a) × f (b) < 0 \n",
    "- nécessite la continuité \n",
    "- vitesse lente ( un grand nombre d'itérations et ordre de convergence = 1):  La lente convergence de la méthode de dichotomie suggère de n’utiliser celle-ci que pour localiser la racine et s’en approcher. En effectuant quelques itérations de dichotomie, on obtient une approximation de α qu’on peut utiliser comme point de départ pour une méthode d’ordre supérieur qui convergera plus vite vers la racine avec une précision donnée .\n",
    "\n",
    "\n",
    "\n",
    "\n",
    "<center style=\"color:red\"><strong>==> donc il faut recourir vers des autres méthodes plus rapide comme la méthode de point fixe</strong></center> \n"
   ]
  },
  {
   "cell_type": "markdown",
   "metadata": {},
   "source": [
    "# EXERCICE 3:\n",
    ">On considère l'équation : $$ f(x)=x^3+4x^2-10=0$$\n",
    ">1) Dessiner la courbe de $f$ dans l'intervalle $[1;2]$, puis trouver une valeur approché de la solution à 0.001 près (En >utilisant la fonction zoom du graphique).\n",
    ">\n",
    ">2) Vérifier que cette équation est équivalente aux 3 schéma du point fixe suivant:\n",
    ">\n",
    ">a) $g_1(x)=\\frac{1}{2}\\sqrt{10-x^3}=x$.\n",
    ">\n",
    ">b) $g_2(x)=\\sqrt{\\displaystyle\\frac{10}{4+x}}=x$.\n",
    ">\n",
    ">c) $g_3(x)=x-x^3-4x^2+10=x$.\n",
    ">\n",
    ">3) Ecrire puis appliquer  une fonction Matlab que l'on appellera  `pointfixe.m` aux trois schémas précédents en prenant >`x0=1.5;eps=0.001`.\n",
    ">\n",
    ">4) Quelle est la fonction (parmi $g_1, g_2$ et $g_3$) qui donne la convergence la plus rapide?\n",
    ">"
   ]
  },
  {
   "cell_type": "markdown",
   "metadata": {},
   "source": [
    "## <p style=\"color:#53C015;text-decoration: underline;\">Correction :</p>"
   ]
  },
  {
   "cell_type": "markdown",
   "metadata": {},
   "source": [
    ">#### 1)\n",
    ">On considère la fonction $f$ définie par $$f:x\\to x^3 + 4x^2 - 10 $$"
   ]
  },
  {
   "cell_type": "markdown",
   "metadata": {},
   "source": [
    "### <em>Version PYTHON</em>"
   ]
  },
  {
   "cell_type": "code",
   "execution_count": 16,
   "metadata": {},
   "outputs": [
    {
     "data": {
      "image/png": "[encoded data removed]",
      "text/plain": [
       "<Figure size 432x288 with 4 Axes>"
      ]
     },
     "metadata": {
      "needs_background": "light"
     },
     "output_type": "display_data"
    }
   ],
   "source": [
    "%matplotlib inline\n",
    "#import mpld3\n",
    "#mpld3.enable_notebook()\n",
    "import numpy as np \n",
    "import matplotlib.pyplot as plt\n",
    "\n",
    "f=lambda x:x**3+4*x**2-10\n",
    "\n",
    "t=np.linspace(1,2,100)\n",
    "plt.subplot(2,2,1)\n",
    "plt.plot(t,f(t),'r')\n",
    "plt.grid(True)\n",
    "##########################################\n",
    "t=np.linspace(1.2,1.4,100)\n",
    "plt.subplot(2,2,2)\n",
    "plt.plot(t,f(t),'r')\n",
    "plt.grid(True)\n",
    "##########################################\n",
    "t=np.linspace(1.35,1.4,100)\n",
    "plt.subplot(2,2,3)\n",
    "plt.plot(t,f(t),'r')\n",
    "plt.grid(True)\n",
    "#########################################\n",
    "t=np.linspace(1.365,1.367,100)\n",
    "plt.subplot(2,2,4)\n",
    "plt.plot(t,f(t),'r')\n",
    "plt.grid(True)"
   ]
  },
  {
   "cell_type": "markdown",
   "metadata": {},
   "source": [
    "#### 2) Justification théorique pour la fonction g1"
   ]
  },
  {
   "cell_type": "markdown",
   "metadata": {},
   "source": [
    "On considère l'équation : $$ f(x)=x^3+4x^2-10=0$$\n",
    "\n",
    "a) $g(x)=\\frac{1}{2}\\sqrt{10-x^3}=x$."
   ]
  },
  {
   "cell_type": "markdown",
   "metadata": {},
   "source": [
    " $$x^3+4x^2-10=0$$ \n",
    "    \n",
    " $$4x^2=10-x^3$$\n",
    " \n",
    " $$2x=\\sqrt{10-x^3}$$\n",
    " \n",
    " $$x=\\frac{1}{2}\\sqrt{10-x^3}$$\n",
    " \n",
    "Donc $ f(x)=g(x)$"
   ]
  },
  {
   "cell_type": "markdown",
   "metadata": {},
   "source": [
    "## Calcul symbolique de la dérivée"
   ]
  },
  {
   "cell_type": "code",
   "execution_count": 17,
   "metadata": {},
   "outputs": [],
   "source": [
    "from sympy import *\n",
    "import numpy as np\n",
    "x, y, z = symbols('x y z')\n",
    "init_printing(use_unicode=True)\n",
    "g1=lambda x: 1/2*sqrt(10-x**3)\n"
   ]
  },
  {
   "cell_type": "code",
   "execution_count": 18,
   "metadata": {},
   "outputs": [
    {
     "data": {
      "image/png": "[encoded data removed]",
      "text/latex": [
       "$\\displaystyle -0.5117446282927461$"
      ],
      "text/plain": [
       "-0.5117446282927461"
      ]
     },
     "execution_count": 18,
     "metadata": {},
     "output_type": "execute_result"
    }
   ],
   "source": [
    "dg1=lambdify(x,diff(g1(x),x,1))\n",
    "dg1(1.365)"
   ]
  },
  {
   "cell_type": "markdown",
   "metadata": {},
   "source": [
    "### Que pouvez vous conclure à propos des convergences de g1"
   ]
  },
  {
   "cell_type": "markdown",
   "metadata": {},
   "source": [
    "<em><strong style=\"color:#13F0A0\">Commentaires :</strong><em>"
   ]
  },
  {
   "cell_type": "markdown",
   "metadata": {},
   "source": [
    " ##  La valeur absolu de la derivée egale à 0.5117446282927461 avec 1>0.5117446282927461 donc g1 converge localement "
   ]
  },
  {
   "cell_type": "markdown",
   "metadata": {},
   "source": [
    "## Justification théoriques pour g2 et g3"
   ]
  },
  {
   "cell_type": "markdown",
   "metadata": {},
   "source": [
    "On considère l'équation : $$ f(x)=x^3+4x^2-10=0$$\n",
    "\n",
    "b) $g(x)=\\sqrt{\\displaystyle\\frac{10}{4+x}}=x$."
   ]
  },
  {
   "cell_type": "markdown",
   "metadata": {},
   "source": [
    "$$x^3+4x^2-10=0$$\n",
    "$$x^3+4x^2=10$$\n",
    "$$x^2(x+4)=10$$\n",
    "$$x^2=\\frac{10}{x+4}$$\n",
    "$$x=\\sqrt{\\displaystyle\\frac{10}{4+x}}$$\n",
    "Donc $ f(x)=g(x)$"
   ]
  },
  {
   "cell_type": "markdown",
   "metadata": {},
   "source": [
    "On considère l'équation : $$ f(x)=x^3+4x^2-10=0$$\n",
    "c) $g(x)=x-x^3-4x^2+10=x$."
   ]
  },
  {
   "cell_type": "markdown",
   "metadata": {},
   "source": [
    "$$x^3+4x^2-10=0$$\n",
    "$$x^3+4x^2-10+x-x=0$$\n",
    "$$x^3-4x^2+x-x=10$$\n",
    "$$x^3-4x^2+x=x+10$$\n",
    "$$4x^2+x=x-x^3+10$$\n",
    "$$x=x-x^3-4x^2+10$$\n",
    "Donc $ f(x)=g(x)$"
   ]
  },
  {
   "cell_type": "markdown",
   "metadata": {},
   "source": [
    "## Etudier théoriquement la convergences de g2 "
   ]
  },
  {
   "cell_type": "markdown",
   "metadata": {},
   "source": [
    "####  <span style='color:blue '>  1)  Justification théorique pour la fonction g2  </span>"
   ]
  },
  {
   "cell_type": "markdown",
   "metadata": {},
   "source": [
    "On considère l'équation : $$ f(x)=x^3+4x^2-10=0$$\n",
    "\n",
    "a) $g_2(x)=\\sqrt{\\displaystyle\\frac{10}{4+x}}=x$."
   ]
  },
  {
   "cell_type": "markdown",
   "metadata": {},
   "source": [
    "$$x^3+4x^2-10=0$$ \n",
    "    \n",
    " $$4x^2=10-x^3$$\n",
    " \n",
    " $$2x=\\sqrt{10-x^3}$$\n",
    " \n",
    " $$x=\\frac{1}{2}\\sqrt{10-x^3}$$\n",
    " \n",
    "Donc $ f(x)=g(x)$\n",
    "\n",
    "\n"
   ]
  },
  {
   "cell_type": "markdown",
   "metadata": {},
   "source": [
    "####  <span style='color:blue '>  2)  Calcul symbolique de la dérivée  </span>"
   ]
  },
  {
   "cell_type": "code",
   "execution_count": 19,
   "metadata": {},
   "outputs": [],
   "source": [
    "from sympy import *\n",
    "import numpy as np\n",
    "x, y, z = symbols('x y z')\n",
    "init_printing(use_unicode=True)\n",
    "g2=lambda x: sqrt(10/(x+4))"
   ]
  },
  {
   "cell_type": "code",
   "execution_count": 20,
   "metadata": {},
   "outputs": [
    {
     "data": {
      "image/png": "[encoded data removed]",
      "text/latex": [
       "$\\displaystyle -0.12723758423338585$"
      ],
      "text/plain": [
       "-0.12723758423338585"
      ]
     },
     "execution_count": 20,
     "metadata": {},
     "output_type": "execute_result"
    }
   ],
   "source": [
    "dg1=lambdify(x,diff(g2(x),x,1))\n",
    "dg1(1.365)"
   ]
  },
  {
   "cell_type": "markdown",
   "metadata": {},
   "source": [
    "## La valeur absolu de la derivée egale à 0.12723758423338585  avec 1> 0.12723758423338585 donc g2 converge localement "
   ]
  },
  {
   "cell_type": "markdown",
   "metadata": {},
   "source": [
    "## Etudier théoriquement la convergences de g3 "
   ]
  },
  {
   "cell_type": "markdown",
   "metadata": {},
   "source": [
    "#  <span style='color:blue '>  1)  Justification théorique pour la fonction g3  </span>"
   ]
  },
  {
   "cell_type": "markdown",
   "metadata": {},
   "source": [
    "On considère l'équation : $$ f(x)=x^3+4x^2-10=0$$\n",
    "\n",
    "a) $g_3(x)=x-x^3-4x^2+10=x$.\n"
   ]
  },
  {
   "cell_type": "markdown",
   "metadata": {},
   "source": [
    "$$x^3+4x^2-10=0$$ \n",
    "    \n",
    " $$4x^2=10-x^3$$\n",
    " \n",
    " $$2x=\\sqrt{10-x^3}$$\n",
    " \n",
    " $$x=\\frac{1}{2}\\sqrt{10-x^3}$$\n",
    " \n",
    "Donc $ f(x)=g(x)$"
   ]
  },
  {
   "cell_type": "markdown",
   "metadata": {},
   "source": [
    "####  <span style='color:blue '>  2)  Calcul symbolique de la dérivée  </span>"
   ]
  },
  {
   "cell_type": "code",
   "execution_count": 21,
   "metadata": {},
   "outputs": [],
   "source": [
    "from sympy import *\n",
    "import numpy as np\n",
    "x, y, z = symbols('x y z')\n",
    "init_printing(use_unicode=True)\n",
    "g3=lambda x: x-x**3-4*x**2 + 10"
   ]
  },
  {
   "cell_type": "code",
   "execution_count": 22,
   "metadata": {},
   "outputs": [
    {
     "data": {
      "image/png": "[encoded data removed]",
      "text/latex": [
       "$\\displaystyle -15.509675000000001$"
      ],
      "text/plain": [
       "-15.509675000000001"
      ]
     },
     "execution_count": 22,
     "metadata": {},
     "output_type": "execute_result"
    }
   ],
   "source": [
    "dg1=lambdify(x,diff(g3(x),x,1))\n",
    "dg1(1.365)"
   ]
  },
  {
   "cell_type": "markdown",
   "metadata": {},
   "source": [
    " ## La valeur absolu de la derivée egale à 15.509675000000001 avec 1<15.509675000000001  donc g3 diverge "
   ]
  },
  {
   "cell_type": "markdown",
   "metadata": {},
   "source": [
    ">#### 3)\n",
    ">\n",
    ">Le code est le suivant :"
   ]
  },
  {
   "cell_type": "markdown",
   "metadata": {},
   "source": [
    "### <em>Version PYTHON</em>"
   ]
  },
  {
   "cell_type": "code",
   "execution_count": 23,
   "metadata": {},
   "outputs": [],
   "source": [
    "\n",
    "f=lambda x:  x**3+4*x**2-10 # la fonction f\n",
    "g1=lambda x: 1/2*sqrt(10-x**3)\n",
    "g2=lambda x: sqrt(10/(x+4))\n",
    "g3=lambda x: x-x**3-4*x**2 + 10\n",
    "\n",
    "\n",
    "def ptfixe(g,x0,eps,nmax):\n",
    "    zero=x0\n",
    "    for i in range(nmax):\n",
    "        x=zero \n",
    "        zero=g(x)\n",
    "        erreur=abs(zero-x)\n",
    "        print(zero)\n",
    "        if erreur<eps:\n",
    "            return zero,i\n",
    "    print('pas de convergence avec le nombre d''iteration indique')"
   ]
  },
  {
   "cell_type": "code",
   "execution_count": 24,
   "metadata": {},
   "outputs": [
    {
     "name": "stdout",
     "output_type": "stream",
     "text": [
      "1.34839972492648\n",
      "1.36737637199128\n",
      "1.36495701540249\n",
      "1.36526474811344\n"
     ]
    },
    {
     "data": {
      "image/png": "[encoded data removed]",
      "text/latex": [
       "$\\displaystyle \\left( 1.36526474811344, \\  3\\right)$"
      ],
      "text/plain": [
       "(1.36526474811344, 3)"
      ]
     },
     "execution_count": 24,
     "metadata": {},
     "output_type": "execute_result"
    }
   ],
   "source": [
    "ptfixe(g2,1.5,0.001,50)"
   ]
  },
  {
   "cell_type": "markdown",
   "metadata": {},
   "source": [
    "#### Remarque :"
   ]
  },
  {
   "cell_type": "markdown",
   "metadata": {},
   "source": [
    "#### La fonction qui donne la convergence la plus rapide est  $g_2$ \n",
    "+ $g_2$ donne le resultat en 4 itérations seulement alors que\n",
    "+ $g_1$ donne le resultat en 10 itérations et \n",
    "+ $g_3$ n'est pas convergente"
   ]
  },
  {
   "cell_type": "markdown",
   "metadata": {},
   "source": [
    "<em><strong style=\"color:#13F0A0\">Commentaires :</strong><em>"
   ]
  },
  {
   "cell_type": "markdown",
   "metadata": {},
   "source": [
    "* Il faut que g soit une fonction auxiliaire \"bien\" choisie pour avoir la meilleur fonction qui donne la convergence la plus rapide .\n",
    "\n",
    "<strong>Inconvénients :</strong>\n",
    "* convergence souvent diffcile à réaliser en pratique\n",
    "* certains points fixes -dits instables- ne peuvent être atteints\n",
    "* convergence lente de type linéaire, en général :  convergence lente (surtout lorsque k est proche de 1) puisque l’erreur évolue ”linéairement” et non ”quadratiquement”.\n",
    "\n",
    "<center style=\"color:red\"><strong>\n",
    "    \n"
   ]
  },
  {
   "cell_type": "markdown",
   "metadata": {},
   "source": [
    "<em><strong style=\"color:#13F0A0\"> Conclusion  :</strong><em>"
   ]
  },
  {
   "cell_type": "markdown",
   "metadata": {},
   "source": [
    "\n",
    "<strong>Il existe des méthodes plus efficaces que le point fixe pour rechercher pratiquement les solutions d'une équation f(x)=0. La plus connue est sans doute la méthode de Newton."
   ]
  },
  {
   "cell_type": "markdown",
   "metadata": {},
   "source": [
    "# EXERCICE 4:\n",
    ">1) On considère la fonction $f(x)=e^{-x}-x$. Ecrire puis appliquer  une fonction Matlab que l'on appellera `newton.m` à la >fonction $f$, en prenant $x0=0$, $eps=0.001$ .\n",
    ">\n",
    ">2) Montrer que l'équation $f(x)=0$ admet une solution unique que l'on peut obtenir en utilisant la méthode de Newton à partir >de $x0=1$."
   ]
  },
  {
   "cell_type": "markdown",
   "metadata": {},
   "source": [
    "### Solution Python"
   ]
  },
  {
   "cell_type": "markdown",
   "metadata": {},
   "source": [
    ">#### 1)\n",
    ">\n",
    ">Le code est le suivant :"
   ]
  },
  {
   "cell_type": "markdown",
   "metadata": {},
   "source": [
    "### <em>Version PYTHON</em>"
   ]
  },
  {
   "cell_type": "code",
   "execution_count": 25,
   "metadata": {},
   "outputs": [],
   "source": [
    "def newton(f,fprime,a,eps):\n",
    "    x1=a\n",
    "    x2=x1-(f(x1)/fprime(x1))\n",
    "    while abs(x1-x2)>eps :\n",
    "        x1=x2\n",
    "        x2=x1-(f(x1)/fprime(x1))\n",
    "        m=x2\n",
    "    return m"
   ]
  },
  {
   "cell_type": "code",
   "execution_count": 26,
   "metadata": {},
   "outputs": [
    {
     "data": {
      "image/png": "[encoded data removed]",
      "text/latex": [
       "$\\displaystyle 0.5671431650348622$"
      ],
      "text/plain": [
       "0.5671431650348622"
      ]
     },
     "execution_count": 26,
     "metadata": {},
     "output_type": "execute_result"
    }
   ],
   "source": [
    "import math\n",
    "from sympy import *\n",
    "from sympy.abc import x\n",
    "\n",
    "f=lambda x: math.exp(-x)-x\n",
    "fprime=lambda x: -math.exp(-x)-1\n",
    "newton(f,fprime,0,0.001)"
   ]
  },
  {
   "cell_type": "markdown",
   "metadata": {},
   "source": [
    ">#### 2)\n",
    ">\n",
    ">Le code est le suivant :"
   ]
  },
  {
   "cell_type": "markdown",
   "metadata": {},
   "source": [
    "### <em>Version PYTHON</em>"
   ]
  },
  {
   "cell_type": "code",
   "execution_count": 27,
   "metadata": {},
   "outputs": [
    {
     "data": {
      "image/png": "[encoded data removed]",
      "text/latex": [
       "$\\displaystyle 0.567143285989123$"
      ],
      "text/plain": [
       "0.567143285989123"
      ]
     },
     "execution_count": 27,
     "metadata": {},
     "output_type": "execute_result"
    }
   ],
   "source": [
    "newton(f,fprime,1,0.001)"
   ]
  },
  {
   "cell_type": "markdown",
   "metadata": {},
   "source": [
    "<em><strong style=\"color:#13F0A0\">Commentaires :</strong><em>"
   ]
  },
  {
   "cell_type": "markdown",
   "metadata": {},
   "source": [
    "\n",
    "- la méthode de newton n'est qu'une cas particulier de la méthode de point fixe\n",
    "\n",
    "<strong>Avantages :</strong>\n",
    "- converge rapidement quand elle converge (ordre de convergence au moins 2 et ce qui compense largement le dernier inconvénient)\n",
    "- relativement stable et peu sensible aux erreurs d'arrondis si $f'(x_∞)$ n'est pas trop petit.\n",
    "\n",
    "<strong>Inconvénients :</strong>\n",
    "- peut diverger ou converger vers un autre zéro que celui cherché si la donnée initiale est mal choisie\n",
    "- nécessite le calcul de la dérivée d'une fonction, ce qui est numériquement diffcile si on ne la connait pas     explicitement\n",
    "- chaque étape nécessite deux évaluations de fonctions."
   ]
  },
  {
   "cell_type": "markdown",
   "metadata": {},
   "source": [
    "## <p style=\"color:#4287f5\" >Conclusion Générale </p>"
   ]
  },
  {
   "cell_type": "markdown",
   "metadata": {},
   "source": [
    "<strong>(i)</strong> Pour comparer les algorithmes, il est important de tenir compte de la présence ou non\n",
    "des facteurs suivants :\n",
    "- assurance de la convergence\n",
    "- vitesse de la convergence\n",
    "- stabilité de l'algorithme - précision des résultats\n",
    "- effcacité des calculs (ex : nombre de fonctions à calculer à chaque itération).\n",
    "\n",
    "<strong>(ii)</strong> La méthode de point fixe a surtout un interêt théorique : son analyse mathématique est relativement aisée et nous a permis d'en déduire celle de la méthode de Newton qui en est en fait un cas particulier.\n",
    "\n",
    "<strong>(iii)</strong> La méthode de Newton a généralement la faveur des utilisateurs : elle est effectivement\n",
    "très rapide et est certainement à conseiller lorsque le calcul de f' est aisé et lorsque des remarques simples permettent de choisir à coup sûr la donnée initiale dans le domaine de convergence. Pour cela, elle peut être, par exemple, précédée d'une application de quelques itérations de la méthode de dichotomie.\n",
    "\n",
    "\n",
    "\n",
    "\n",
    "\n",
    "\n"
   ]
  },
  {
   "cell_type": "markdown",
   "metadata": {},
   "source": [
    "## <center style=\"color:#6C0277\" > Tableau récapitulatif </center>"
   ]
  },
  {
   "cell_type": "markdown",
   "metadata": {},
   "source": [
    "|<p style=\"color:#FD3F92\" > Méthode de la dichotomie </p>|<p style=\"color:#FD3F92\" > Méthode de Point fixe </p>|<p style=\"color:#FD3F92\" > Méthode de Newton </p>|\n",
    "|:---:|:---:|:---:|\n",
    "|* Elle est lente.|* Elle est rapide.|* Elle est rapide.| \n",
    "|*  est convergente.|* Soit convergence locale- Soit divergence.|*Convergence locale.| \n",
    "|* Ordre de convergence est égal à 1.|* Ordre de convergence dépend des dérivées successives en 0.|* Ordre de convergence est au moins 2.| \n"
   ]
  }
 ],
 "metadata": {
  "kernelspec": {
   "display_name": "Python 3 (ipykernel)",
   "language": "python",
   "name": "python3"
  },
  "language_info": {
   "codemirror_mode": {
    "name": "ipython",
    "version": 3
   },
   "file_extension": ".py",
   "mimetype": "text/x-python",
   "name": "python",
   "nbconvert_exporter": "python",
   "pygments_lexer": "ipython3",
   "version": "3.9.7"
  }
 },
 "nbformat": 4,
 "nbformat_minor": 4
}
